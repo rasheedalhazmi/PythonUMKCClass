{
  "nbformat": 4,
  "nbformat_minor": 0,
  "metadata": {
    "colab": {
      "name": "The %tensorflow_version magic",
      "provenance": [],
      "collapsed_sections": []
    },
    "kernelspec": {
      "display_name": "Python 3",
      "name": "python3"
    }
  },
  "cells": [
    {
      "cell_type": "markdown",
      "metadata": {
        "id": "nPDc8yQtVxk4"
      },
      "source": [
        "#TensorFlow versions in Colab"
      ]
    },
    {
      "cell_type": "markdown",
      "metadata": {
        "id": "N2y2uqx9GfA5"
      },
      "source": [
        "\n",
        "##Background\n",
        "Colab has two versions of TensorFlow pre-installed: a 2.x version and a 1.x version. Colab uses TensorFlow 2.x by default, though you can switch to 1.x by the method shown below.\n"
      ]
    },
    {
      "cell_type": "markdown",
      "metadata": {
        "id": "aR_btJrKGdw7"
      },
      "source": [
        "##Specifying the TensorFlow version\n",
        "\n",
        "Running `import tensorflow` will import the default version (currently 2.x). You can use 1.x by running a cell with the `tensorflow_version` magic **before** you run `import tensorflow`."
      ]
    },
    {
      "cell_type": "markdown",
      "metadata": {
        "id": "uBIKyjpEVxlU"
      },
      "source": [
        "If you want to switch TensorFlow versions after import, you **will need to restart your runtime** with 'Runtime' -> 'Restart runtime...' and then specify the version before you import it again."
      ]
    },
    {
      "cell_type": "code",
      "metadata": {
        "id": "79CbJ0bMpyYU",
        "outputId": "c5fb264a-ed43-4783-e9ad-f697107bd10f",
        "colab": {
          "base_uri": "https://localhost:8080/"
        }
      },
      "source": [
        "%tensorflow_version 1.15\n",
        "import tensorflow as tf\n",
        "from keras import Sequential\n",
        "from keras.datasets import mnist\n",
        "import numpy as np\n",
        "from keras.layers import Dense\n",
        "from keras.utils import to_categorical"
      ],
      "execution_count": 22,
      "outputs": [
        {
          "output_type": "stream",
          "text": [
            "`%tensorflow_version` only switches the major version: 1.x or 2.x.\n",
            "You set: `1.15`. This will be interpreted as: `1.x`.\n",
            "\n",
            "\n",
            "TensorFlow is already loaded. Please restart the runtime to change versions.\n"
          ],
          "name": "stdout"
        }
      ]
    },
    {
      "cell_type": "code",
      "metadata": {
        "id": "-XbfkU7BeziQ"
      },
      "source": [
        "(train_images,train_labels),(test_images, test_labels) = mnist.load_data()"
      ],
      "execution_count": 23,
      "outputs": []
    },
    {
      "cell_type": "code",
      "metadata": {
        "id": "UpIGlMqpqMX5",
        "outputId": "c9e77fac-8b95-4156-cb11-52031e58131e",
        "colab": {
          "base_uri": "https://localhost:8080/"
        }
      },
      "source": [
        "print(train_images.shape[1:])\n"
      ],
      "execution_count": 24,
      "outputs": [
        {
          "output_type": "stream",
          "text": [
            "(28, 28)\n"
          ],
          "name": "stdout"
        }
      ]
    },
    {
      "cell_type": "code",
      "metadata": {
        "id": "NeWVBhf1VxlH"
      },
      "source": [
        "%tensorflow_version 1.x"
      ],
      "execution_count": 25,
      "outputs": []
    },
    {
      "cell_type": "markdown",
      "metadata": {
        "id": "8dSlimhOVxlQ"
      },
      "source": [
        "Once you have specified a version via this magic, you can run `import tensorflow` as normal and verify which version was imported as follows:"
      ]
    },
    {
      "cell_type": "code",
      "metadata": {
        "id": "O0-Z3Bs2qPEi",
        "outputId": "fa1e5a0a-dd5a-48ec-81af-05b8e4249d91",
        "colab": {
          "base_uri": "https://localhost:8080/"
        }
      },
      "source": [
        "#process the data\n",
        "#1. convert each image of shape 28*28 to 784 dimensional which will be fed to the network as a single feature\n",
        "dimData = np.prod(train_images.shape[1:])\n",
        "print(dimData)\n",
        "train_data = train_images.reshape(train_images.shape[0],dimData)\n",
        "test_data = test_images.reshape(test_images.shape[0],dimData)"
      ],
      "execution_count": 26,
      "outputs": [
        {
          "output_type": "stream",
          "text": [
            "784\n"
          ],
          "name": "stdout"
        }
      ]
    },
    {
      "cell_type": "code",
      "metadata": {
        "id": "tQ6d6uipqVIS"
      },
      "source": [
        "#convert data to float and scale values between 0 and 1\n",
        "train_data = train_data.astype('float')\n",
        "test_data = test_data.astype('float')"
      ],
      "execution_count": 27,
      "outputs": []
    },
    {
      "cell_type": "code",
      "metadata": {
        "id": "QuhCeWKCqbrF"
      },
      "source": [
        "#scale data\n",
        "train_data /=255.0\n",
        "test_data /=255.0"
      ],
      "execution_count": 28,
      "outputs": []
    },
    {
      "cell_type": "code",
      "metadata": {
        "id": "iCuXpwJNqc5L"
      },
      "source": [
        "#change the labels frominteger to one-hot encoding. to_categorical is doing the same thing as LabelEncoder()\n",
        "train_labels_one_hot = to_categorical(train_labels)\n",
        "test_labels_one_hot = to_categorical(test_labels)"
      ],
      "execution_count": 29,
      "outputs": []
    },
    {
      "cell_type": "code",
      "metadata": {
        "id": "d3k1qb1oqcvt"
      },
      "source": [
        "#creating network\n",
        "model = Sequential()\n",
        "model.add(Dense(512, activation='relu', input_shape=(dimData,)))\n",
        "model.add(Dense(512, activation='relu'))\n",
        "model.add(Dense(10, activation='softmax'))"
      ],
      "execution_count": 30,
      "outputs": []
    },
    {
      "cell_type": "code",
      "metadata": {
        "id": "Jh_Dfo3SqcjB",
        "outputId": "bffef3dc-96e6-481a-9a2b-bfcbdf51153f",
        "colab": {
          "base_uri": "https://localhost:8080/"
        }
      },
      "source": [
        "model.compile(optimizer='rmsprop', loss='categorical_crossentropy', metrics=['accuracy'])\n",
        "history = model.fit(train_data, train_labels_one_hot, batch_size=256, epochs=10, verbose=1,\n",
        "                   validation_data=(test_data, test_labels_one_hot))"
      ],
      "execution_count": 31,
      "outputs": [
        {
          "output_type": "stream",
          "text": [
            "Train on 60000 samples, validate on 10000 samples\n",
            "Epoch 1/10\n",
            "60000/60000 [==============================] - 6s 106us/step - loss: 0.2660 - accuracy: 0.9178 - val_loss: 0.1376 - val_accuracy: 0.9565\n",
            "Epoch 2/10\n",
            "60000/60000 [==============================] - 6s 105us/step - loss: 0.0924 - accuracy: 0.9711 - val_loss: 0.0825 - val_accuracy: 0.9755\n",
            "Epoch 3/10\n",
            "60000/60000 [==============================] - 6s 105us/step - loss: 0.0581 - accuracy: 0.9818 - val_loss: 0.0854 - val_accuracy: 0.9732\n",
            "Epoch 4/10\n",
            "60000/60000 [==============================] - 6s 105us/step - loss: 0.0392 - accuracy: 0.9878 - val_loss: 0.0878 - val_accuracy: 0.9760\n",
            "Epoch 5/10\n",
            "60000/60000 [==============================] - 6s 105us/step - loss: 0.0285 - accuracy: 0.9909 - val_loss: 0.0759 - val_accuracy: 0.9786\n",
            "Epoch 6/10\n",
            "60000/60000 [==============================] - 6s 105us/step - loss: 0.0215 - accuracy: 0.9932 - val_loss: 0.0723 - val_accuracy: 0.9804\n",
            "Epoch 7/10\n",
            "60000/60000 [==============================] - 6s 105us/step - loss: 0.0176 - accuracy: 0.9941 - val_loss: 0.0753 - val_accuracy: 0.9810\n",
            "Epoch 8/10\n",
            "60000/60000 [==============================] - 6s 104us/step - loss: 0.0128 - accuracy: 0.9959 - val_loss: 0.1209 - val_accuracy: 0.9717\n",
            "Epoch 9/10\n",
            "60000/60000 [==============================] - 6s 105us/step - loss: 0.0116 - accuracy: 0.9962 - val_loss: 0.0889 - val_accuracy: 0.9816\n",
            "Epoch 10/10\n",
            "60000/60000 [==============================] - 6s 105us/step - loss: 0.0084 - accuracy: 0.9972 - val_loss: 0.0907 - val_accuracy: 0.9825\n"
          ],
          "name": "stdout"
        }
      ]
    },
    {
      "cell_type": "markdown",
      "metadata": {
        "id": "GlvMWULiuXsI"
      },
      "source": [
        "**Ploting**"
      ]
    },
    {
      "cell_type": "code",
      "metadata": {
        "id": "cXeTWBCoqz7Y",
        "outputId": "dbd95ff0-1c0b-42cd-a7e1-9e83ef1ecc15",
        "colab": {
          "base_uri": "https://localhost:8080/",
          "height": 675
        }
      },
      "source": [
        "print(model.summary())\n",
        "loss, accuracy = model.evaluate(test_data, test_labels_one_hot)\n",
        "print(\"LOSS: {}\".format(loss))\n",
        "print(\"ACCURACY: {}\".format(accuracy))\n",
        "\n",
        "from keras.utils import plot_model\n",
        "plot_model(model, to_file='model.png')"
      ],
      "execution_count": 32,
      "outputs": [
        {
          "output_type": "stream",
          "text": [
            "Model: \"sequential_3\"\n",
            "_________________________________________________________________\n",
            "Layer (type)                 Output Shape              Param #   \n",
            "=================================================================\n",
            "dense_4 (Dense)              (None, 512)               401920    \n",
            "_________________________________________________________________\n",
            "dense_5 (Dense)              (None, 512)               262656    \n",
            "_________________________________________________________________\n",
            "dense_6 (Dense)              (None, 10)                5130      \n",
            "=================================================================\n",
            "Total params: 669,706\n",
            "Trainable params: 669,706\n",
            "Non-trainable params: 0\n",
            "_________________________________________________________________\n",
            "None\n",
            "10000/10000 [==============================] - 1s 79us/step\n",
            "LOSS: 0.09071295164049441\n",
            "ACCURACY: 0.9825000166893005\n"
          ],
          "name": "stdout"
        },
        {
          "output_type": "execute_result",
          "data": {
            "image/png": "[encoded data removed]",
            "text/plain": [
              "<IPython.core.display.Image object>"
            ]
          },
          "metadata": {
            "tags": []
          },
          "execution_count": 32
        }
      ]
    },
    {
      "cell_type": "markdown",
      "metadata": {
        "id": "0pyXYNOdvjOM"
      },
      "source": [
        " **Plot for accuracy and loss**"
      ]
    },
    {
      "cell_type": "code",
      "metadata": {
        "id": "c87oAswAsUdS",
        "outputId": "df5019e7-ea24-4a73-d310-0a2b8f8abcf6",
        "colab": {
          "base_uri": "https://localhost:8080/",
          "height": 573
        }
      },
      "source": [
        "import matplotlib.pyplot as plt\n",
        "\n",
        "# Plot training & validation accuracy values\n",
        "plt.plot(history.history['accuracy'])\n",
        "plt.plot(history.history['val_accuracy'])\n",
        "plt.title('Model accuracy')\n",
        "plt.ylabel('Accuracy')\n",
        "plt.xlabel('Epoch')\n",
        "plt.legend(['Train', 'Test'], loc='upper left')\n",
        "plt.show()\n",
        "\n",
        "# Plot training & validation loss values\n",
        "plt.plot(history.history['loss'])\n",
        "plt.plot(history.history['val_loss'])\n",
        "plt.title('Model loss')\n",
        "plt.ylabel('Loss')\n",
        "plt.xlabel('Epoch')\n",
        "plt.legend(['Train', 'Test'], loc='upper left')\n",
        "plt.show()\n"
      ],
      "execution_count": 33,
      "outputs": [
        {
          "output_type": "display_data",
          "data": {
            "image/png": "[encoded data removed]",
            "text/plain": [
              "<Figure size 432x288 with 1 Axes>"
            ]
          },
          "metadata": {
            "tags": [],
            "needs_background": "light"
          }
        },
        {
          "output_type": "display_data",
          "data": {
            "image/png": "[encoded data removed]",
            "text/plain": [
              "<Figure size 432x288 with 1 Axes>"
            ]
          },
          "metadata": {
            "tags": [],
            "needs_background": "light"
          }
        }
      ]
    },
    {
      "cell_type": "code",
      "metadata": {
        "id": "k5VA2G_Rv89F",
        "outputId": "30ada452-de57-4292-c5b7-a92a6384c1eb",
        "colab": {
          "base_uri": "https://localhost:8080/",
          "height": 1000
        }
      },
      "source": [
        "model = Sequential()\n",
        "model.add(Dense(512, activation='tanh', input_shape=(dimData,)))\n",
        "model.add(Dense(512, activation='tanh'))\n",
        "model.add(Dense(512, activation='tanh'))\n",
        "model.add(Dense(10, activation='softmax'))\n",
        "model.compile(optimizer='rmsprop', loss='categorical_crossentropy', metrics=['accuracy'])\n",
        "history = model.fit(train_data, train_labels_one_hot, batch_size=256, epochs=10, verbose=1,\n",
        "                   validation_data=(test_data, test_labels_one_hot))\n",
        "print(model.summary())\n",
        "loss, accuracy = model.evaluate(test_data, test_labels_one_hot)\n",
        "print(\"LOSS: {}\".format(loss))\n",
        "print(\"ACCURACY: {}\".format(accuracy))\n",
        "\n",
        "from keras.utils import plot_model\n",
        "plot_model(model, to_file='model.png')\n",
        "\n",
        "import matplotlib.pyplot as plt\n",
        "\n",
        "# Plot training & validation accuracy values\n",
        "plt.plot(history.history['accuracy'])\n",
        "plt.plot(history.history['val_accuracy'])\n",
        "plt.title('Model accuracy')\n",
        "plt.ylabel('Accuracy')\n",
        "plt.xlabel('Epoch')\n",
        "plt.legend(['Train', 'Test'], loc='upper left')\n",
        "plt.show()\n",
        "\n",
        "# Plot training & validation loss values\n",
        "plt.plot(history.history['loss'])\n",
        "plt.plot(history.history['val_loss'])\n",
        "plt.title('Model loss')\n",
        "plt.ylabel('Loss')\n",
        "plt.xlabel('Epoch')\n",
        "plt.legend(['Train', 'Test'], loc='upper left')\n",
        "plt.show()"
      ],
      "execution_count": 34,
      "outputs": [
        {
          "output_type": "stream",
          "text": [
            "Train on 60000 samples, validate on 10000 samples\n",
            "Epoch 1/10\n",
            "60000/60000 [==============================] - 10s 165us/step - loss: 0.4067 - accuracy: 0.8763 - val_loss: 0.2775 - val_accuracy: 0.9101\n",
            "Epoch 2/10\n",
            "60000/60000 [==============================] - 10s 162us/step - loss: 0.1555 - accuracy: 0.9522 - val_loss: 0.1457 - val_accuracy: 0.9550\n",
            "Epoch 3/10\n",
            "60000/60000 [==============================] - 10s 163us/step - loss: 0.0982 - accuracy: 0.9690 - val_loss: 0.0970 - val_accuracy: 0.9716\n",
            "Epoch 4/10\n",
            "60000/60000 [==============================] - 10s 167us/step - loss: 0.0673 - accuracy: 0.9788 - val_loss: 0.0955 - val_accuracy: 0.9697\n",
            "Epoch 5/10\n",
            "60000/60000 [==============================] - 10s 167us/step - loss: 0.0491 - accuracy: 0.9848 - val_loss: 0.0901 - val_accuracy: 0.9722\n",
            "Epoch 6/10\n",
            "60000/60000 [==============================] - 10s 165us/step - loss: 0.0356 - accuracy: 0.9883 - val_loss: 0.1057 - val_accuracy: 0.9668\n",
            "Epoch 7/10\n",
            "60000/60000 [==============================] - 10s 165us/step - loss: 0.0258 - accuracy: 0.9917 - val_loss: 0.0638 - val_accuracy: 0.9799\n",
            "Epoch 8/10\n",
            "60000/60000 [==============================] - 10s 165us/step - loss: 0.0199 - accuracy: 0.9935 - val_loss: 0.0764 - val_accuracy: 0.9777\n",
            "Epoch 9/10\n",
            "60000/60000 [==============================] - 10s 168us/step - loss: 0.0146 - accuracy: 0.9956 - val_loss: 0.0684 - val_accuracy: 0.9797\n",
            "Epoch 10/10\n",
            "60000/60000 [==============================] - 10s 165us/step - loss: 0.0127 - accuracy: 0.9959 - val_loss: 0.1004 - val_accuracy: 0.9734\n",
            "Model: \"sequential_4\"\n",
            "_________________________________________________________________\n",
            "Layer (type)                 Output Shape              Param #   \n",
            "=================================================================\n",
            "dense_7 (Dense)              (None, 512)               401920    \n",
            "_________________________________________________________________\n",
            "dense_8 (Dense)              (None, 512)               262656    \n",
            "_________________________________________________________________\n",
            "dense_9 (Dense)              (None, 512)               262656    \n",
            "_________________________________________________________________\n",
            "dense_10 (Dense)             (None, 10)                5130      \n",
            "=================================================================\n",
            "Total params: 932,362\n",
            "Trainable params: 932,362\n",
            "Non-trainable params: 0\n",
            "_________________________________________________________________\n",
            "None\n",
            "10000/10000 [==============================] - 1s 133us/step\n",
            "LOSS: 0.10035596133702201\n",
            "ACCURACY: 0.9733999967575073\n"
          ],
          "name": "stdout"
        },
        {
          "output_type": "display_data",
          "data": {
            "image/png": "[encoded data removed]",
            "text/plain": [
              "<Figure size 432x288 with 1 Axes>"
            ]
          },
          "metadata": {
            "tags": [],
            "needs_background": "light"
          }
        },
        {
          "output_type": "display_data",
          "data": {
            "image/png": "[encoded data removed]",
            "text/plain": [
              "<Figure size 432x288 with 1 Axes>"
            ]
          },
          "metadata": {
            "tags": [],
            "needs_background": "light"
          }
        }
      ]
    }
  ]
}