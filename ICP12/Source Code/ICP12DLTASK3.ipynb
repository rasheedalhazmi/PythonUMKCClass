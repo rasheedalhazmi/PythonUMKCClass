{
  "nbformat": 4,
  "nbformat_minor": 0,
  "metadata": {
    "colab": {
      "name": "ICP12DLTASK3.ipynb",
      "provenance": [],
      "collapsed_sections": []
    },
    "kernelspec": {
      "name": "python3",
      "display_name": "Python 3"
    },
    "language_info": {
      "name": "python"
    }
  },
  "cells": [
    {
      "cell_type": "code",
      "metadata": {
        "colab": {
          "base_uri": "https://localhost:8080/"
        },
        "id": "Z5-FpxBIY7qR",
        "outputId": "8d00c6cf-4d37-4b9c-d95a-37908fa1814d"
      },
      "source": [
        "import pandas as pd\n",
        "from keras.preprocessing.text import Tokenizer\n",
        "from keras.preprocessing.sequence import pad_sequences\n",
        "from keras.models import Sequential\n",
        "from keras.layers import Dense, Embedding, LSTM\n",
        "from sklearn.model_selection import train_test_split\n",
        "from keras.utils.np_utils import to_categorical\n",
        "import re\n",
        "\n",
        "from sklearn.preprocessing import LabelEncoder\n",
        "\n",
        "data = pd.read_csv('/content/drive/MyDrive/Colab Notebooks/spam.csv', encoding='latin-1')\n",
        "# Keeping only the neccessary columns\n",
        "data = data[['v2', 'v1']]\n",
        "data['v2'] = data['v2'].apply(lambda x: x.lower())\n",
        "data['v2'] = data['v2'].apply((lambda x: re.sub('[^a-zA-z0-9\\s]', '', x)))\n",
        "max_fatures = 2000\n",
        "tokenizer = Tokenizer(num_words=max_fatures)\n",
        "tokenizer.fit_on_texts(data['v2'].values)\n",
        "X = tokenizer.texts_to_sequences(data['v2'].values)\n",
        "X = pad_sequences(X)\n",
        "embed_dim = 128\n",
        "lstm_out = 196\n",
        "\n",
        "\n",
        "def createmodel():\n",
        "    model = Sequential()\n",
        "    model.add(Embedding(max_fatures, embed_dim, input_length=X.shape[1]))\n",
        "    model.add(LSTM(lstm_out, dropout=0.2, recurrent_dropout=0.2))\n",
        "    model.add(Dense(2, activation='softmax'))\n",
        "    model.compile(loss='categorical_crossentropy', optimizer='adam', metrics=['accuracy'])\n",
        "    return model\n",
        "\n",
        "\n",
        "labelencoder = LabelEncoder()\n",
        "integer_encoded = labelencoder.fit_transform(data['v1'])\n",
        "y = to_categorical(integer_encoded)\n",
        "X_train, X_test, Y_train, Y_test = train_test_split(X, y, test_size=0.33, random_state=42)\n",
        "batch_size = 32\n",
        "model = createmodel()\n",
        "model.fit(X_train, Y_train, batch_size=batch_size, verbose=2)\n",
        "score, acc = model.evaluate(X_test, Y_test, verbose=2, batch_size=batch_size)\n",
        "print(model.metrics_names[0], \":\", score)\n",
        "print(model.metrics_names[1], \":\", acc)"
      ],
      "execution_count": 1,
      "outputs": [
        {
          "output_type": "stream",
          "text": [
            "117/117 - 92s - loss: 0.1624 - accuracy: 0.9451\n",
            "58/58 - 6s - loss: 0.0756 - accuracy: 0.9810\n",
            "loss : 0.07559138536453247\n",
            "accuracy : 0.9809679388999939\n"
          ],
          "name": "stdout"
        }
      ]
    }
  ]
}